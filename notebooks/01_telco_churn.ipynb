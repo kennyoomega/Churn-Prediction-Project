{
 "cells": [
  {
   "cell_type": "code",
   "execution_count": 6,
   "id": "c333ce27-f6d9-4c52-900d-c0388c205350",
   "metadata": {},
   "outputs": [],
   "source": [
    "# WHAT: imports and global config\n",
    "# WHY : establish reproducible, consistent environment for classification\n",
    "\n",
    "import os, json, warnings, numpy as np, pandas as pd, matplotlib.pyplot as plt\n",
    "warnings.filterwarnings(\"ignore\")\n",
    "RANDOM_STATE = 42\n",
    "np.random.seed(RANDOM_STATE)\n",
    "\n",
    "from sklearn.model_selection import train_test_split, StratifiedKFold\n",
    "from sklearn.preprocessing import OneHotEncoder, StandardScaler\n",
    "from sklearn.compose import ColumnTransformer\n",
    "from sklearn.pipeline import Pipeline\n",
    "from sklearn.metrics import (\n",
    "    roc_auc_score, average_precision_score, f1_score, classification_report,\n",
    "    confusion_matrix, precision_recall_fscore_support, precision_score, recall_score\n",
    ")\n",
    "from sklearn.linear_model import LogisticRegression\n",
    "from sklearn.ensemble import RandomForestClassifier\n",
    "from xgboost import XGBClassifier\n",
    "import shap"
   ]
  },
  {
   "cell_type": "markdown",
   "id": "c49030d7-baee-4578-8a81-f1d3425a75bd",
   "metadata": {},
   "source": [
    "## 1. Load & Inspect\n",
    "**Goal:** Load the churn dataset and validate the data contract (columns, types, NA)."
   ]
  },
  {
   "cell_type": "code",
   "execution_count": 7,
   "id": "f2a3349b-0946-4bf1-a702-a993c65ebc55",
   "metadata": {},
   "outputs": [
    {
     "name": "stdout",
     "output_type": "stream",
     "text": [
      "   customerID  gender  SeniorCitizen Partner Dependents  tenure PhoneService  \\\n",
      "0  7590-VHVEG  Female              0     Yes         No       1           No   \n",
      "1  5575-GNVDE    Male              0      No         No      34          Yes   \n",
      "2  3668-QPYBK    Male              0      No         No       2          Yes   \n",
      "3  7795-CFOCW    Male              0      No         No      45           No   \n",
      "4  9237-HQITU  Female              0      No         No       2          Yes   \n",
      "\n",
      "      MultipleLines InternetService OnlineSecurity  ... DeviceProtection  \\\n",
      "0  No phone service             DSL             No  ...               No   \n",
      "1                No             DSL            Yes  ...              Yes   \n",
      "2                No             DSL            Yes  ...               No   \n",
      "3  No phone service             DSL            Yes  ...              Yes   \n",
      "4                No     Fiber optic             No  ...               No   \n",
      "\n",
      "  TechSupport StreamingTV StreamingMovies        Contract PaperlessBilling  \\\n",
      "0          No          No              No  Month-to-month              Yes   \n",
      "1          No          No              No        One year               No   \n",
      "2          No          No              No  Month-to-month              Yes   \n",
      "3         Yes          No              No        One year               No   \n",
      "4          No          No              No  Month-to-month              Yes   \n",
      "\n",
      "               PaymentMethod MonthlyCharges  TotalCharges Churn  \n",
      "0           Electronic check          29.85         29.85    No  \n",
      "1               Mailed check          56.95        1889.5    No  \n",
      "2               Mailed check          53.85        108.15   Yes  \n",
      "3  Bank transfer (automatic)          42.30       1840.75    No  \n",
      "4           Electronic check          70.70        151.65   Yes  \n",
      "\n",
      "[5 rows x 21 columns]\n",
      "(7043, 21)\n",
      "customerID       0\n",
      "gender           0\n",
      "SeniorCitizen    0\n",
      "Partner          0\n",
      "Dependents       0\n",
      "dtype: int64\n"
     ]
    }
   ],
   "source": [
    "# WHAT: read CSV and basic checks\n",
    "# WHY : ensure expected schema exists before modeling\n",
    "\n",
    "df = pd.read_csv(\"../data/raw/WA_Fn-UseC_-Telco-Customer-Churn.csv\")\n",
    "print(df.head())\n",
    "print(df.shape)\n",
    "print(df.isna().sum().sort_values(ascending=False).head())\n",
    "\n",
    "TARGET = \"churn\"        # 0/1\n",
    "ID_COL = \"customer_id\"  # optional if available\n",
    "# Optional time column if you want time-based split later:\n",
    "# TIME_COL = \"signup_date\"  # or \"last_activity\""
   ]
  },
  {
   "cell_type": "markdown",
   "id": "322d4a4f-a5e7-482a-bc14-790208ff169a",
   "metadata": {},
   "source": [
    "## 2. Quick EDA\n",
    "**Goal:** Understand class imbalance and basic distribution quirks."
   ]
  },
  {
   "cell_type": "code",
   "execution_count": 15,
   "id": "342bd68e-d032-451b-8ae6-01d50df56542",
   "metadata": {},
   "outputs": [
    {
     "name": "stdout",
     "output_type": "stream",
     "text": [
      "✅ Target column detected → churn\n",
      "📊 Churn rate: 26.54%\n"
     ]
    },
    {
     "data": {
      "image/png": "[encoded data removed]",
      "text/plain": [
       "<Figure size 640x480 with 1 Axes>"
      ]
     },
     "metadata": {},
     "output_type": "display_data"
    },
    {
     "name": "stdout",
     "output_type": "stream",
     "text": [
      "🩹 Columns with missing values:\n"
     ]
    },
    {
     "data": {
      "text/plain": [
       "totalcharges    11\n",
       "dtype: int64"
      ]
     },
     "metadata": {},
     "output_type": "display_data"
    }
   ],
   "source": [
    "# ── 2. EDA: Quick Overview ───────────────────────────────────────────\n",
    "# WHAT: standardize dataset, detect target column, check balance & missingness\n",
    "# WHY : ensure label consistency, prevent leakage, and prep for preprocessing\n",
    "\n",
    "\n",
    "# 2.1 Normalize column names\n",
    "# WHAT : unify column naming to lower_case_with_underscores\n",
    "# WHY  : avoid mismatched keys like \"Churn\" vs \"churn\"\n",
    "orig_cols = df.columns.tolist()\n",
    "df.columns = (\n",
    "    df.columns\n",
    "      .str.strip()\n",
    "      .str.replace(r\"\\s+\", \"_\", regex=True)\n",
    "      .str.lower()\n",
    ")\n",
    "\n",
    "\n",
    "# 2.2 Detect target column (churn)\n",
    "# WHAT : automatically find likely churn column (churn / is_churn / churn_flag)\n",
    "# WHY  : makes notebook reusable across datasets\n",
    "cand = [c for c in df.columns if c in [\"churn\", \"is_churn\", \"churn_flag\"] or c.endswith(\"_churn\")]\n",
    "if not cand:\n",
    "    raise ValueError(f\"No churn-like column found. Available columns: {list(df.columns)[:10]} ...\")\n",
    "TARGET = cand[0]\n",
    "print(f\"✅ Target column detected → {TARGET}\")\n",
    "\n",
    "\n",
    "# 2.3 Map target to numeric\n",
    "# WHAT : convert Yes/No or True/False labels to 1/0 integers\n",
    "# WHY  : unify label type for ML classifiers\n",
    "if df[TARGET].dtype == \"object\":\n",
    "    mapping = {\"yes\": 1, \"no\": 0, \"true\": 1, \"false\": 0, \"1\": 1, \"0\": 0}\n",
    "    df[TARGET] = df[TARGET].astype(str).str.strip().str.lower().map(mapping)\n",
    "    if df[TARGET].isna().any():\n",
    "        print(\"⚠️ Unmapped target values:\", df[TARGET].unique())\n",
    "        raise ValueError(\"Please extend mapping for target values.\")\n",
    "df[TARGET] = df[TARGET].astype(int)\n",
    "\n",
    "\n",
    "# 2.4 Fix numeric-type issues (Telco-specific)\n",
    "# WHAT : convert totalcharges to numeric; blank entries → NaN\n",
    "# WHY  : common Kaggle Telco issue\n",
    "if \"totalcharges\" in df.columns and df[\"totalcharges\"].dtype == \"object\":\n",
    "    df[\"totalcharges\"] = pd.to_numeric(df[\"totalcharges\"].str.strip().replace(\"\", np.nan), errors=\"coerce\")\n",
    "\n",
    "\n",
    "# 2.5 Churn class balance visualization\n",
    "# WHAT : visualize churn vs retained proportions\n",
    "# WHY  : check imbalance severity (affects metrics & resampling)\n",
    "churn_rate = df[TARGET].mean()\n",
    "print(f\"📊 Churn rate: {churn_rate:.2%}\")\n",
    "df[TARGET].value_counts(normalize=True).plot(kind=\"bar\", color=[\"steelblue\",\"tomato\"])\n",
    "plt.title(\"Class Balance (Churn vs Retained)\")\n",
    "plt.ylabel(\"Proportion\")\n",
    "plt.xticks(rotation=0)\n",
    "plt.show()\n",
    "\n",
    "\n",
    "# 2.6 Missing value overview\n",
    "# WHAT : inspect top columns with missing data\n",
    "# WHY  : define imputation strategy before modeling\n",
    "na_cnt = df.isna().sum().sort_values(ascending=False)\n",
    "if na_cnt.max() > 0:\n",
    "    print(\"🩹 Columns with missing values:\")\n",
    "    display(na_cnt[na_cnt > 0].head(15))\n",
    "else:\n",
    "    print(\"✅ No missing values detected.\")"
   ]
  },
  {
   "cell_type": "markdown",
   "id": "5e9ecdd8-9fab-4440-9cdd-43fa8b6ad352",
   "metadata": {},
   "source": [
    "## 3. Anti-Leakage Declaration\n",
    "**Goal:** Make leakage guardrails explicit before feature engineering and split."
   ]
  },
  {
   "cell_type": "code",
   "execution_count": 11,
   "id": "0ff7c16f-84b2-44f3-a4c0-327ae44b46bf",
   "metadata": {},
   "outputs": [
    {
     "name": "stdout",
     "output_type": "stream",
     "text": [
      "\n",
      "Anti-leakage policy:\n",
      "- No features derived from post-churn period (no lookahead).\n",
      "- Preprocessing/selection fit on TRAIN only.\n",
      "- Split is stratified by label (or time-based if cohort effect exists).\n",
      "\n"
     ]
    }
   ],
   "source": [
    "print(\"\"\"\n",
    "Anti-leakage policy:\n",
    "- No features derived from post-churn period (no lookahead).\n",
    "- Preprocessing/selection fit on TRAIN only.\n",
    "- Split is stratified by label (or time-based if cohort effect exists).\n",
    "\"\"\")"
   ]
  },
  {
   "cell_type": "markdown",
   "id": "1f5bfa46-7ae6-4c86-9c68-deb932d3d024",
   "metadata": {},
   "source": [
    "## 4. Train / Validation Split\n",
    "**Goal:** Create a stratified split (or switch to time-based if needed)."
   ]
  },
  {
   "cell_type": "code",
   "execution_count": 12,
   "id": "136bf94b-1282-4cbf-8dda-020ce9938a59",
   "metadata": {},
   "outputs": [
    {
     "name": "stdout",
     "output_type": "stream",
     "text": [
      "Train/Valid: (5634, 20) (1409, 20)\n"
     ]
    }
   ],
   "source": [
    "# WHAT: create train/valid sets with stratification\n",
    "# WHY : preserve label distribution; avoid optimistic bias\n",
    "\n",
    "X = df.drop(columns=[TARGET])          # keep ID_COL if you need it later\n",
    "y = df[TARGET].astype(int)\n",
    "\n",
    "num_cols = X.select_dtypes(include=[np.number]).columns.tolist()\n",
    "cat_cols = X.select_dtypes(exclude=[np.number]).columns.tolist()\n",
    "\n",
    "X_train, X_valid, y_train, y_valid = train_test_split(\n",
    "    X, y, test_size=0.2, random_state=RANDOM_STATE, stratify=y\n",
    ")\n",
    "print(\"Train/Valid:\", X_train.shape, X_valid.shape)"
   ]
  },
  {
   "cell_type": "markdown",
   "id": "7565fe4e-52d3-474c-ba46-e188892274c4",
   "metadata": {},
   "source": [
    "## 5. Baseline Models: LogReg / RF / XGB\n",
    "**Goal:** Establish solid baselines with unified preprocessing via sklearn Pipeline."
   ]
  },
  {
   "cell_type": "code",
   "execution_count": 18,
   "id": "c20c51de-7e12-4e57-b30b-1e2082d6e307",
   "metadata": {},
   "outputs": [
    {
     "name": "stdout",
     "output_type": "stream",
     "text": [
      "[logreg] AUC=0.841 | PR-AUC=0.632 | F1@0.5=0.621\n",
      "[rf] AUC=0.827 | PR-AUC=0.618 | F1@0.5=0.560\n",
      "[xgb] AUC=0.837 | PR-AUC=0.648 | F1@0.5=0.622\n"
     ]
    }
   ],
   "source": [
    "# ── 6. Baseline models with robust preprocessing ─────────────────────\n",
    "# WHAT: preprocessing + candidate models (with imputation)\n",
    "# WHY : avoid NaN errors, unify numeric/categorical handling, benchmark learners\n",
    "# HOW : ColumnTransformer(num_pipe, cat_pipe) → Pipeline(prep → clf)\n",
    "\n",
    "from sklearn.impute import SimpleImputer\n",
    "\n",
    "# 6.1 Build numeric / categorical pipelines\n",
    "# - Numeric: median imputation → scaling\n",
    "# - Categorical: most_frequent imputation → OneHot\n",
    "num_pipe = Pipeline(steps=[\n",
    "    (\"impute\", SimpleImputer(strategy=\"median\")),\n",
    "    (\"scale\",  StandardScaler(with_mean=False))\n",
    "])\n",
    "\n",
    "cat_pipe = Pipeline(steps=[\n",
    "    (\"impute\", SimpleImputer(strategy=\"most_frequent\")),\n",
    "    (\"ohe\",    OneHotEncoder(handle_unknown=\"ignore\"))\n",
    "])\n",
    "\n",
    "# 防御：若某一类列为空，ColumnTransformer 仍然能工作\n",
    "transformers = []\n",
    "if len(num_cols) > 0:\n",
    "    transformers.append((\"num\", num_pipe, num_cols))\n",
    "if len(cat_cols) > 0:\n",
    "    transformers.append((\"cat\", cat_pipe, cat_cols))\n",
    "\n",
    "preprocess = ColumnTransformer(\n",
    "    transformers=transformers,\n",
    "    remainder=\"drop\",\n",
    "    sparse_threshold=0.3  # encourage sparse output after OHE\n",
    ")\n",
    "\n",
    "# 6.2 Class imbalance hint for XGB: neg/pos ratio (可选)\n",
    "pos = int(y_train.sum())\n",
    "neg = int((y_train == 0).sum())\n",
    "scale_pos_weight = None\n",
    "if pos > 0:\n",
    "    scale_pos_weight = neg / pos  # heuristic for imbalanced data\n",
    "\n",
    "# 6.3 Candidate models\n",
    "candidates = {\n",
    "    \"logreg\": LogisticRegression(\n",
    "        max_iter=1000,\n",
    "        class_weight=\"balanced\",\n",
    "        random_state=RANDOM_STATE\n",
    "    ),\n",
    "    \"rf\": RandomForestClassifier(\n",
    "        n_estimators=300,\n",
    "        max_depth=None,\n",
    "        n_jobs=-1,\n",
    "        class_weight=\"balanced_subsample\",\n",
    "        random_state=RANDOM_STATE\n",
    "    ),\n",
    "    \"xgb\": XGBClassifier(\n",
    "        n_estimators=500,\n",
    "        max_depth=4,\n",
    "        learning_rate=0.05,\n",
    "        subsample=0.9,\n",
    "        colsample_bytree=0.8,\n",
    "        eval_metric=\"logloss\",\n",
    "        random_state=RANDOM_STATE,\n",
    "        n_jobs=-1,\n",
    "        reg_alpha=0.0,\n",
    "        reg_lambda=1.0,\n",
    "        scale_pos_weight=scale_pos_weight  # ← imbalance-aware\n",
    "    )\n",
    "}\n",
    "\n",
    "def eval_model(name, clf):\n",
    "    # HOW : Pipeline = preprocess → classifier; evaluate on valid\n",
    "    pipe = Pipeline([(\"prep\", preprocess), (\"clf\", clf)])\n",
    "    pipe.fit(X_train, y_train)\n",
    "\n",
    "    # 兼容：若无 predict_proba（这里都有），可 fallback 到 decision_function\n",
    "    if hasattr(pipe.named_steps[\"clf\"], \"predict_proba\"):\n",
    "        proba = pipe.predict_proba(X_valid)[:, 1]\n",
    "    else:\n",
    "        # fallback（一般用不上）\n",
    "        scores = pipe.decision_function(X_valid)\n",
    "        # 简单映射为 [0,1] 概率（仅作占位）\n",
    "        proba = 1 / (1 + np.exp(-scores))\n",
    "\n",
    "    preds = (proba >= 0.5).astype(int)\n",
    "    auc  = roc_auc_score(y_valid, proba)\n",
    "    pr   = average_precision_score(y_valid, proba)\n",
    "    f1   = f1_score(y_valid, preds)\n",
    "    print(f\"[{name}] AUC={auc:.3f} | PR-AUC={pr:.3f} | F1@0.5={f1:.3f}\")\n",
    "    return pipe, proba\n",
    "\n",
    "# 6.4 Fit all candidates and store artifacts\n",
    "fitted = {}\n",
    "for k, m in candidates.items():\n",
    "    pipe, proba = eval_model(k, m)\n",
    "    fitted[k] = {\"pipe\": pipe, \"proba\": proba}"
   ]
  },
  {
   "cell_type": "markdown",
   "id": "80a96fb3-c3a4-44f3-9ccd-9d453bcb7f80",
   "metadata": {},
   "source": [
    "## 6. Threshold Search\n",
    "**Goal:** Find a business-aligned threshold (e.g., maximize F1 or recall@precision)."
   ]
  },
  {
   "cell_type": "code",
   "execution_count": 19,
   "id": "435a7572-3e95-4d6a-988f-26c9a082a497",
   "metadata": {},
   "outputs": [
    {
     "name": "stdout",
     "output_type": "stream",
     "text": [
      "Best threshold by F1: t=0.45, F1=0.623\n"
     ]
    }
   ],
   "source": [
    "# WHAT: sweep thresholds on the chosen model (e.g., XGB) to optimize an objective\n",
    "# WHY : 0.5 rarely optimal under class imbalance and asymmetric costs\n",
    "\n",
    "best_t, best_f1 = 0.5, -1\n",
    "for t in np.linspace(0.1, 0.9, 17):\n",
    "    preds = (fitted[\"xgb\"][\"proba\"] >= t).astype(int)\n",
    "    f1 = f1_score(y_valid, preds)\n",
    "    if f1 > best_f1:\n",
    "        best_f1, best_t = f1, t\n",
    "\n",
    "print(f\"Best threshold by F1: t={best_t:.2f}, F1={best_f1:.3f}\")"
   ]
  },
  {
   "cell_type": "markdown",
   "id": "e78ec8a6-2138-4767-8654-d850c8428edc",
   "metadata": {},
   "source": [
    "## 7. Report @ Best Threshold\n",
    "**Goal:** Show classification report and confusion matrix at selected threshold."
   ]
  },
  {
   "cell_type": "code",
   "execution_count": 20,
   "id": "c6f434f7-119b-4304-bd53-309b8883eb32",
   "metadata": {},
   "outputs": [
    {
     "name": "stdout",
     "output_type": "stream",
     "text": [
      "              precision    recall  f1-score   support\n",
      "\n",
      "           0      0.908     0.726     0.807      1035\n",
      "           1      0.512     0.797     0.623       374\n",
      "\n",
      "    accuracy                          0.744      1409\n",
      "   macro avg      0.710     0.761     0.715      1409\n",
      "weighted avg      0.803     0.744     0.758      1409\n",
      "\n"
     ]
    },
    {
     "data": {
      "image/png": "[encoded data removed]",
      "text/plain": [
       "<Figure size 640x480 with 2 Axes>"
      ]
     },
     "metadata": {},
     "output_type": "display_data"
    },
    {
     "name": "stdout",
     "output_type": "stream",
     "text": [
      "Precision=0.512 | Recall=0.797 @ t=0.45\n"
     ]
    }
   ],
   "source": [
    "# WHAT: generate confusion matrix and per-class metrics at chosen threshold\n",
    "# WHY : ensure operating point is understood by stakeholders\n",
    "\n",
    "from sklearn.metrics import ConfusionMatrixDisplay\n",
    "\n",
    "proba_best = fitted[\"xgb\"][\"proba\"]\n",
    "preds_best = (proba_best >= best_t).astype(int)\n",
    "\n",
    "print(classification_report(y_valid, preds_best, digits=3))\n",
    "ConfusionMatrixDisplay(confusion_matrix(y_valid, preds_best)).plot()\n",
    "plt.title(f\"Confusion Matrix @ t={best_t:.2f}\"); plt.show()\n",
    "\n",
    "prec = precision_score(y_valid, preds_best)\n",
    "rec  = recall_score(y_valid, preds_best)\n",
    "print(f\"Precision={prec:.3f} | Recall={rec:.3f} @ t={best_t:.2f}\")"
   ]
  },
  {
   "cell_type": "markdown",
   "id": "4366271e-c818-4301-8665-2a1e03093ad4",
   "metadata": {},
   "source": [
    "## 8. Error Slicing\n",
    "**Goal:** Diagnose where the model underperforms (by segments)."
   ]
  },
  {
   "cell_type": "code",
   "execution_count": 22,
   "id": "1218ea9c-b5e5-4120-8d7b-b683fbf521c2",
   "metadata": {},
   "outputs": [],
   "source": [
    "# WHAT: slice errors by business-meaningful segments (e.g., tenure buckets)\n",
    "# WHY : inform actions (e.g., targeted offers on weak segments)\n",
    "\n",
    "seg_col = \"tenure_months\" if \"tenure_months\" in X_valid.columns else None\n",
    "if seg_col:\n",
    "    tmp = X_valid.copy()\n",
    "    tmp[\"y\"] = y_valid.values\n",
    "    tmp[\"proba\"] = proba_best\n",
    "    tmp[\"pred\"]  = preds_best\n",
    "    tmp[\"abs_err\"] = (tmp[\"y\"] - tmp[\"proba\"]).abs()\n",
    "    tmp[\"tenure_bin\"] = pd.qcut(tmp[seg_col], q=5, duplicates=\"drop\")\n",
    "    print(tmp.groupby(\"tenure_bin\")[\"abs_err\"].mean())"
   ]
  },
  {
   "cell_type": "markdown",
   "id": "9f2561b2-2ff7-4595-ad93-c23ea741442b",
   "metadata": {},
   "source": [
    "## 9. Explainability (SHAP)\n",
    "**Goal:** Provide global feature importance (and optionally local cases)."
   ]
  },
  {
   "cell_type": "code",
   "execution_count": 23,
   "id": "65952d0b-039a-490f-8aea-1551ff557f2b",
   "metadata": {},
   "outputs": [
    {
     "data": {
      "image/png": "[encoded data removed]",
      "text/plain": [
       "<Figure size 800x950 with 1 Axes>"
      ]
     },
     "metadata": {},
     "output_type": "display_data"
    }
   ],
   "source": [
    "# WHAT: SHAP on the fitted XGB (after preprocessing)\n",
    "# WHY : communicate key drivers and ensure model transparency\n",
    "\n",
    "xgb_pipe = fitted[\"xgb\"][\"pipe\"]\n",
    "X_train_t = xgb_pipe.named_steps[\"prep\"].fit_transform(X_train)\n",
    "model     = xgb_pipe.named_steps[\"clf\"]\n",
    "\n",
    "explainer = shap.TreeExplainer(model)\n",
    "bg_idx    = np.random.choice(X_train_t.shape[0], size=min(1000, X_train_t.shape[0]), replace=False)\n",
    "shap_values = explainer.shap_values(X_train_t[bg_idx])\n",
    "\n",
    "shap.summary_plot(shap_values, X_train_t[bg_idx], show=False, plot_type=\"bar\")\n",
    "plt.title(\"Global SHAP Feature Importance (after preprocessing)\"); plt.show()"
   ]
  },
  {
   "cell_type": "markdown",
   "id": "009d9972-03be-4e40-b12a-fb3544805b3e",
   "metadata": {},
   "source": [
    "## 10. (Optional) Cross-Validation\n",
    "**Goal:** Validate robustness via stratified K-fold (scores = mean ± std)."
   ]
  },
  {
   "cell_type": "code",
   "execution_count": 24,
   "id": "0017e61b-3002-4332-b1f6-69cbcfd7536b",
   "metadata": {},
   "outputs": [],
   "source": [
    "# TODO (optional): add StratifiedKFold to estimate robustness\n",
    "# WHY : ensure stable performance across folds under class imbalance"
   ]
  },
  {
   "cell_type": "markdown",
   "id": "77d162a0-e426-4147-9bf2-d5029178050c",
   "metadata": {},
   "source": [
    "## 11. Business Translation\n",
    "**Goal:** Translate model metrics into ops terms (retention campaign targeting)."
   ]
  },
  {
   "cell_type": "code",
   "execution_count": 25,
   "id": "08b9792a-4afe-4211-b72c-a1b76a49113f",
   "metadata": {},
   "outputs": [
    {
     "name": "stdout",
     "output_type": "stream",
     "text": [
      "Contacts=582 | TP=298 | FP=284 | FN=76 | TN=751\n",
      "Assumed save rate among TP: 25%\n",
      "Gross benefit ≈ 22,350 DKK | Cost ≈ 2,910 DKK | Net ≈ 19,440 DKK\n",
      "Note: Replace assumptions with real unit economics; choose threshold to maximize net.\n"
     ]
    }
   ],
   "source": [
    "# WHAT: connect precision/recall at chosen threshold to campaign ROI\n",
    "# WHY : stakeholders think in costs and returns, not only AUC\n",
    "\n",
    "# --- Toy assumptions (replace with your business numbers) ---\n",
    "contact_cost = 5.0          # DKK per contacted customer (SMS/call/offer cost)\n",
    "retention_value = 300.0     # DKK saved if a churning customer is retained\n",
    "base_rate = y_valid.mean()  # observed churn rate in validation\n",
    "\n",
    "# --- Estimated outcomes at this threshold ---\n",
    "TP = ((y_valid == 1) & (preds_best == 1)).sum()\n",
    "FP = ((y_valid == 0) & (preds_best == 1)).sum()\n",
    "FN = ((y_valid == 1) & (preds_best == 0)).sum()\n",
    "TN = ((y_valid == 0) & (preds_best == 0)).sum()\n",
    "\n",
    "contacted = (preds_best == 1).sum()\n",
    "# conservative assumption: retention succeeds for a fraction of true churners you contact\n",
    "assumed_success_rate = 0.25  # TODO: align with CRM team / historical uplift\n",
    "expected_saves = TP * assumed_success_rate\n",
    "\n",
    "gross_benefit = expected_saves * retention_value\n",
    "campaign_cost = contacted * contact_cost\n",
    "net_gain = gross_benefit - campaign_cost\n",
    "\n",
    "print(f\"Contacts={contacted} | TP={TP} | FP={FP} | FN={FN} | TN={TN}\")\n",
    "print(f\"Assumed save rate among TP: {assumed_success_rate:.0%}\")\n",
    "print(f\"Gross benefit ≈ {gross_benefit:,.0f} DKK | Cost ≈ {campaign_cost:,.0f} DKK | Net ≈ {net_gain:,.0f} DKK\")\n",
    "print(\"Note: Replace assumptions with real unit economics; choose threshold to maximize net.\")"
   ]
  },
  {
   "cell_type": "markdown",
   "id": "8bbf2a93-f0ec-4979-bcc2-6e76296a7df6",
   "metadata": {},
   "source": [
    "## 12. Save Artifacts & Reproducibility\n",
    "**Goal:** Persist metrics and config; prepare for later CLI/pipeline refactor."
   ]
  },
  {
   "cell_type": "code",
   "execution_count": 27,
   "id": "f3d2b5f4-0cdc-42b1-9b84-bb1f76cf0c0d",
   "metadata": {},
   "outputs": [
    {
     "name": "stdout",
     "output_type": "stream",
     "text": [
      "✅ Saved → ../reports/churn_metrics.json\n",
      "\n",
      "Reproducibility hook (placeholder):\n",
      "You can later refactor this notebook into CLI:\n",
      "  python -m src.train_churn --config configs/churn_base.yaml\n",
      "\n"
     ]
    }
   ],
   "source": [
    "# WHAT: save key metrics and chosen threshold for reproducibility\n",
    "# WHY : enable reporting, comparisons, and pipeline automation\n",
    "\n",
    "os.makedirs(\"../reports\", exist_ok=True)\n",
    "\n",
    "auc  = roc_auc_score(y_valid, proba_best)\n",
    "pr   = average_precision_score(y_valid, proba_best)\n",
    "f1   = f1_score(y_valid, preds_best)\n",
    "prec = precision_score(y_valid, preds_best)\n",
    "rec  = recall_score(y_valid, preds_best)\n",
    "\n",
    "artifacts = {\n",
    "    \"best_model\": \"xgb\",\n",
    "    \"best_threshold\": float(best_t),\n",
    "    \"metrics_valid\": {\n",
    "        \"roc_auc\": float(auc),\n",
    "        \"pr_auc\": float(pr),\n",
    "        \"f1\": float(f1),\n",
    "        \"precision_at_t\": float(prec),\n",
    "        \"recall_at_t\": float(rec)\n",
    "    },\n",
    "    \"confusion_matrix\": {\n",
    "        \"TP\": int(((y_valid == 1) & (preds_best == 1)).sum()),\n",
    "        \"FP\": int(((y_valid == 0) & (preds_best == 1)).sum()),\n",
    "        \"FN\": int(((y_valid == 1) & (preds_best == 0)).sum()),\n",
    "        \"TN\": int(((y_valid == 0) & (preds_best == 0)).sum())\n",
    "    },\n",
    "    \"random_state\": RANDOM_STATE\n",
    "}\n",
    "json.dump(artifacts, open(\"../reports/churn_metrics.json\",\"w\"), indent=2)\n",
    "print(\"✅ Saved → ../reports/churn_metrics.json\")\n",
    "\n",
    "print(\"\"\"\n",
    "Reproducibility hook (placeholder):\n",
    "You can later refactor this notebook into CLI:\n",
    "  python -m src.train_churn --config configs/churn_base.yaml\n",
    "\"\"\")"
   ]
  }
 ],
 "metadata": {
  "kernelspec": {
   "display_name": "Python (churn)",
   "language": "python",
   "name": "churn"
  },
  "language_info": {
   "codemirror_mode": {
    "name": "ipython",
    "version": 3
   },
   "file_extension": ".py",
   "mimetype": "text/x-python",
   "name": "python",
   "nbconvert_exporter": "python",
   "pygments_lexer": "ipython3",
   "version": "3.10.18"
  }
 },
 "nbformat": 4,
 "nbformat_minor": 5
}
